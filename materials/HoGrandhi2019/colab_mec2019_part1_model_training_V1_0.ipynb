{
 "cells": [
  {
   "cell_type": "markdown",
   "metadata": {
    "colab_type": "text",
    "id": "N3wAjFWFAW5i"
   },
   "source": [
    "# MICCAI Educational Challenge (MEC) 2019\n",
    "Deep learning [1] has been widely used in many medical imaging applications, including time-since-stroke classification [2], and tissue outcome prediction [3]. However, these models are often criticized as \"black-boxes\", in which the mechanism of predictions are hardly understood and therefore limit the adaptation of these models in real clinical applications. \n",
    "\n",
    "In this tutorial, there are three objectives: (1) we illustrate an end-to-end workflow of training a deep learning segmentation model (Unet) ; (2) we illustrate several implementations of deep learning visualization techniques to interpret the classification; (3) we demonstrate how to achieve objectives 1&2 using pytorch (https://pytorch.org/) and an open-source imaging library medicaltorch (https://github.com/perone/medicaltorch). \n",
    "\n",
    "There are two notebooks in this tutorial, which correspond to the two parts: segmentation model training and deep learning visualization.\n",
    "\n",
    "References\n",
    "- [1] LeCun, Yann, Yoshua Bengio, and Geoffrey Hinton. \"Deep learning.\" nature 521.7553 (2015): 436.\n",
    "- [2] Ho, King Chung, et al. \"A Machine Learning Approach for Classifying Ischemic Stroke Onset Time from Imaging.\" IEEE transactions on medical imaging (2019).\n",
    "- [3] Ho, King Chung, et al. \"Predicting ischemic stroke tissue fate using a deep convolutional neural network on source magnetic resonance perfusion images.\" Journal of Medical Imaging 6.2 (2019): 026001.\n",
    "\n",
    "## Notebook Running Environment\n",
    "- The notebooks have been fully tested using Google Colab (https://colab.research.google.com/notebooks/welcome.ipynb#recent=true), which is a platform that provides free CPU and GPU computational resources. If you have a good GPU and a good CPU, you can run these two notebooks in your local environment. Here are two decent colab tutorials to begin with: \n",
    "  - Overview: https://www.geeksforgeeks.org/how-to-use-google-colab/\n",
    "  - How to use GPU in colab: https://hackernoon.com/begin-your-deep-learning-project-for-free-free-gpu-processing-free-storage-free-easy-upload-b4dba18abebc\n",
    "- Major Packages needed:\n",
    "  - Numpy v1.16.4\n",
    "  - Pytorch v1.1.0\n",
    "  - MedicalTorch v0.2\n",
    "  - Pandas v0.24.2\n",
    "  - Matplotlib v3.0.3\n",
    "  - Torchvision v0.3.0\n",
    "  - MacOS 10.14.3 (OS environment)\n",
    "- Note: We observed that colab may not run properly in Windows 10. We suggest using it in a Linux environment.\n",
    "\n",
    "# Part 1: Deep Learning Unet Model Training for Spinal Cord Segmentation\n",
    "### By King Chung Ho *, Ratna Sagari Grandhi *, William Speier, Corey Arnold, University of California, Los Angeles, CA, USA\n",
    "*These authors contributed equally to this work\n",
    "\n",
    "\n",
    "# Data: Spinal Cord Segmentation Challenge \n",
    "- The data comes from the spinal cord grey matter segmentation challenge [1]. Please download the spinal cord data to a designated local environment folder or onto google drive (if you are using Google Colab) through the niftyweb: http://niftyweb.cs.ucl.ac.uk/challenge/index.php#citation\n",
    "  \n",
    "- Briefly, the challenge is to develop methods for better white matter (WM) and grey matter (GM) segmentation in the cervical cord cross-sectional area. The data comes from 4 sites, in which each site provides 20 heavy subject images, gray matter (GM) & white matter (WM) manual segmentations. 10 subject images (from each site) are used for training and the remaining 10 subject images (from each site) are used for testing.\n",
    "\n",
    "References\n",
    "- [1] Prados, Ferran, et al. \"Spinal cord grey matter segmentation challenge.\" Neuroimage 152 (2017): 312-329.\n",
    "\n",
    "\n",
    "\n",
    "\n"
   ]
  },
  {
   "cell_type": "markdown",
   "metadata": {
    "colab_type": "text",
    "id": "pEeGeuyzAt8F"
   },
   "source": [
    "# Setup Colab\n",
    "You can skip this section if you are running the notebook in your local environment. "
   ]
  },
  {
   "cell_type": "markdown",
   "metadata": {
    "colab_type": "text",
    "id": "SNaB8AQWBHk5"
   },
   "source": [
    "## Mount a google drive folder\n",
    "-  For more reference on how to mount a good drive folder please visit: https://colab.research.google.com/drive/1srw_HFWQ2SMgmWIawucXfusGzrj1_U0q"
   ]
  },
  {
   "cell_type": "code",
   "execution_count": 0,
   "metadata": {
    "colab": {
     "base_uri": "https://localhost:8080/",
     "height": 34
    },
    "colab_type": "code",
    "id": "3-z2bzOPA1bZ",
    "outputId": "b364fb17-3c92-48d6-dc64-befcdfde64db"
   },
   "outputs": [
    {
     "name": "stdout",
     "output_type": "stream",
     "text": [
      "Drive already mounted at /content/drive; to attempt to forcibly remount, call drive.mount(\"/content/drive\", force_remount=True).\n"
     ]
    }
   ],
   "source": [
    "from google.colab import drive\n",
    "drive.mount('/content/drive')"
   ]
  },
  {
   "cell_type": "code",
   "execution_count": 0,
   "metadata": {
    "colab": {
     "base_uri": "https://localhost:8080/",
     "height": 50
    },
    "colab_type": "code",
    "id": "Lf1AvTCJBckR",
    "outputId": "24efaad2-f44b-4f1e-b957-03b414cb739a"
   },
   "outputs": [
    {
     "name": "stdout",
     "output_type": "stream",
     "text": [
      "'2017 Spinal cord grey matter segmentation challenge.pdf'   mec\n",
      " data\t\t\t\t\t\t\t    trained_models\n"
     ]
    }
   ],
   "source": [
    "# checking if mount is successful, i.e. we are able to see the data folder\n",
    "!ls \"/content/drive/My Drive/MICCAI-MEC-2019\""
   ]
  },
  {
   "cell_type": "code",
   "execution_count": 0,
   "metadata": {
    "colab": {
     "base_uri": "https://localhost:8080/",
     "height": 538
    },
    "colab_type": "code",
    "id": "lZaeTf4dAtWW",
    "outputId": "8549d1b8-c7d9-435a-91df-2e36385f9336"
   },
   "outputs": [
    {
     "name": "stdout",
     "output_type": "stream",
     "text": [
      "              total        used        free      shared  buff/cache   available\n",
      "Mem:            12G        720M        9.0G        900K        3.1G         11G\n",
      "Swap:            0B          0B          0B\n",
      "Filesystem     1G-blocks  Used Available Use% Mounted on\n",
      "overlay             359G   32G      309G  10% /\n",
      "tmpfs                 1G    0G        1G   0% /dev\n",
      "tmpfs                 7G    0G        7G   0% /sys/fs/cgroup\n",
      "/dev/sda1           365G   43G      323G  12% /opt/bin\n",
      "tmpfs                 7G    1G        7G   1% /var/colab\n",
      "shm                   6G    1G        6G   1% /dev/shm\n",
      "tmpfs                 7G    0G        7G   0% /proc/acpi\n",
      "tmpfs                 7G    0G        7G   0% /proc/scsi\n",
      "tmpfs                 7G    0G        7G   0% /sys/firmware\n",
      "drive               359G   66G      293G  19% /content/drive\n",
      "Sat Aug 24 21:29:11 2019       \n",
      "+-----------------------------------------------------------------------------+\n",
      "| NVIDIA-SMI 430.40       Driver Version: 418.67       CUDA Version: 10.1     |\n",
      "|-------------------------------+----------------------+----------------------+\n",
      "| GPU  Name        Persistence-M| Bus-Id        Disp.A | Volatile Uncorr. ECC |\n",
      "| Fan  Temp  Perf  Pwr:Usage/Cap|         Memory-Usage | GPU-Util  Compute M. |\n",
      "|===============================+======================+======================|\n",
      "|   0  Tesla T4            Off  | 00000000:00:04.0 Off |                    0 |\n",
      "| N/A   52C    P8    11W /  70W |      0MiB / 15079MiB |      0%      Default |\n",
      "+-------------------------------+----------------------+----------------------+\n",
      "                                                                               \n",
      "+-----------------------------------------------------------------------------+\n",
      "| Processes:                                                       GPU Memory |\n",
      "|  GPU       PID   Type   Process name                             Usage      |\n",
      "|=============================================================================|\n",
      "|  No running processes found                                                 |\n",
      "+-----------------------------------------------------------------------------+\n"
     ]
    }
   ],
   "source": [
    "# check RAM, CPU, and GPU\n",
    "!free -h\n",
    "!df -BG\n",
    "!nvidia-smi"
   ]
  },
  {
   "cell_type": "markdown",
   "metadata": {
    "colab_type": "text",
    "id": "pxKIDy7b1bNm"
   },
   "source": [
    "# Install Necessary Packages"
   ]
  },
  {
   "cell_type": "code",
   "execution_count": 0,
   "metadata": {
    "colab": {
     "base_uri": "https://localhost:8080/",
     "height": 440
    },
    "colab_type": "code",
    "id": "IQ3laoepASR-",
    "outputId": "f5b89992-5774-49bb-c3b8-e982fe6c7099"
   },
   "outputs": [
    {
     "name": "stdout",
     "output_type": "stream",
     "text": [
      "Looking in links: https://download.pytorch.org/whl/torch_stable.html\n",
      "Requirement already satisfied: torch==1.2.0+cu92 in /usr/local/lib/python3.6/dist-packages (1.2.0+cu92)\n",
      "Requirement already satisfied: torchvision==0.4.0+cu92 in /usr/local/lib/python3.6/dist-packages (0.4.0+cu92)\n",
      "Requirement already satisfied: numpy in /usr/local/lib/python3.6/dist-packages (from torch==1.2.0+cu92) (1.16.4)\n",
      "Requirement already satisfied: six in /usr/local/lib/python3.6/dist-packages (from torchvision==0.4.0+cu92) (1.12.0)\n",
      "Requirement already satisfied: pillow>=4.1.1 in /usr/local/lib/python3.6/dist-packages (from torchvision==0.4.0+cu92) (4.3.0)\n",
      "Requirement already satisfied: olefile in /usr/local/lib/python3.6/dist-packages (from pillow>=4.1.1->torchvision==0.4.0+cu92) (0.46)\n",
      "Requirement already satisfied: medicaltorch in /usr/local/lib/python3.6/dist-packages (0.2)\n",
      "Requirement already satisfied: scipy>=1.0.0 in /usr/local/lib/python3.6/dist-packages (from medicaltorch) (1.3.1)\n",
      "Requirement already satisfied: torch>=0.4.0 in /usr/local/lib/python3.6/dist-packages (from medicaltorch) (1.2.0+cu92)\n",
      "Requirement already satisfied: torchvision>=0.2.1 in /usr/local/lib/python3.6/dist-packages (from medicaltorch) (0.4.0+cu92)\n",
      "Requirement already satisfied: numpy>=1.14.1 in /usr/local/lib/python3.6/dist-packages (from medicaltorch) (1.16.4)\n",
      "Requirement already satisfied: tqdm>=4.23.0 in /usr/local/lib/python3.6/dist-packages (from medicaltorch) (4.28.1)\n",
      "Requirement already satisfied: nibabel>=2.2.1 in /usr/local/lib/python3.6/dist-packages (from medicaltorch) (2.3.3)\n",
      "Requirement already satisfied: six in /usr/local/lib/python3.6/dist-packages (from torchvision>=0.2.1->medicaltorch) (1.12.0)\n",
      "Requirement already satisfied: pillow>=4.1.1 in /usr/local/lib/python3.6/dist-packages (from torchvision>=0.2.1->medicaltorch) (4.3.0)\n",
      "Requirement already satisfied: bz2file in /usr/local/lib/python3.6/dist-packages (from nibabel>=2.2.1->medicaltorch) (0.98)\n",
      "Requirement already satisfied: olefile in /usr/local/lib/python3.6/dist-packages (from pillow>=4.1.1->torchvision>=0.2.1->medicaltorch) (0.46)\n",
      "Requirement already satisfied: numpy in /usr/local/lib/python3.6/dist-packages (1.16.4)\n",
      "Requirement already satisfied: pandas in /usr/local/lib/python3.6/dist-packages (0.24.2)\n",
      "Requirement already satisfied: pytz>=2011k in /usr/local/lib/python3.6/dist-packages (from pandas) (2018.9)\n",
      "Requirement already satisfied: numpy>=1.12.0 in /usr/local/lib/python3.6/dist-packages (from pandas) (1.16.4)\n",
      "Requirement already satisfied: python-dateutil>=2.5.0 in /usr/local/lib/python3.6/dist-packages (from pandas) (2.5.3)\n",
      "Requirement already satisfied: six>=1.5 in /usr/local/lib/python3.6/dist-packages (from python-dateutil>=2.5.0->pandas) (1.12.0)\n"
     ]
    }
   ],
   "source": [
    "!pip3 install torch==1.2.0+cu92 torchvision==0.4.0+cu92 -f https://download.pytorch.org/whl/torch_stable.html\n",
    "!pip install medicaltorch\n",
    "!pip3 install numpy\n",
    "!pip3 install pandas"
   ]
  },
  {
   "cell_type": "markdown",
   "metadata": {
    "colab_type": "text",
    "id": "U5cmwgd3phPk"
   },
   "source": [
    "# Data Exploration\n",
    "- Get familiar with the medicaltorch library and explore the spinal cord dataset. This tutorial is modified heavily from this example notebook: https://colab.research.google.com/drive/1V516_8lzebSPw_ygZhJQLfbGedMDikPc#scrollTo=yD3mbIc8tzed\n"
   ]
  },
  {
   "cell_type": "code",
   "execution_count": 0,
   "metadata": {
    "colab": {},
    "colab_type": "code",
    "id": "96heRHBnATfx"
   },
   "outputs": [],
   "source": [
    "from collections import defaultdict\n",
    "from tqdm import tqdm\n",
    "from medicaltorch import datasets as mt_datasets\n",
    "from medicaltorch import models as mt_models\n",
    "from medicaltorch import transforms as mt_transforms\n",
    "from medicaltorch import losses as mt_losses\n",
    "from medicaltorch import metrics as mt_metrics\n",
    "from medicaltorch import filters as mt_filters\n",
    "from torchvision import transforms\n",
    "from torch.utils.data import DataLoader\n",
    "from torch import autograd, optim\n",
    "\n",
    "import torch.backends.cudnn as cudnn\n",
    "import time\n",
    "import os\n",
    "import numpy as np\n",
    "import torch\n",
    "import torch.nn as nn\n",
    "import torchvision.utils as vutils\n",
    "import matplotlib.pyplot as plt\n",
    "\n",
    "\n",
    "torch.manual_seed(1)\n",
    "np.random.seed(1)\n",
    "cudnn.benchmark = True\n",
    "%matplotlib inline"
   ]
  },
  {
   "cell_type": "code",
   "execution_count": 0,
   "metadata": {
    "colab": {},
    "colab_type": "code",
    "id": "QGeYAAXHZFQO"
   },
   "outputs": [],
   "source": [
    "# Define where the data is stored. Please change this part according to where you\n",
    "# store your data. The example path here assumes your data is stored in Google Drive\n",
    "# and you are using Google Colab to run the notebook\n",
    "\n",
    "root_dir = 'drive/My Drive/MICCAI-MEC-2019'\n",
    "data_train_dir = '%s/data/gm-sc-challenge2017-train' %root_dir\n",
    "data_test_dir = '%s/data/gm-sc-challenge2017-test' %root_dir"
   ]
  },
  {
   "cell_type": "code",
   "execution_count": 0,
   "metadata": {
    "colab": {
     "base_uri": "https://localhost:8080/",
     "height": 571
    },
    "colab_type": "code",
    "id": "Eh2TYPJCp9Ek",
    "outputId": "9a09dd5a-0026-45ed-9c0f-f085008f6c69"
   },
   "outputs": [
    {
     "name": "stdout",
     "output_type": "stream",
     "text": [
      "The pair of images dimension is: ((100, 100, 3), (100, 100, 3))\n",
      "An input image dimension is: (100, 100)\n",
      "The number of unique labels in the mask: [0. 1. 2.]\n"
     ]
    },
    {
     "data": {
      "image/png": "[encoded data removed]",
      "text/plain": [
       "<Figure size 432x288 with 1 Axes>"
      ]
     },
     "metadata": {
      "tags": []
     },
     "output_type": "display_data"
    },
    {
     "data": {
      "image/png": "[encoded data removed]",
      "text/plain": [
       "<Figure size 432x288 with 1 Axes>"
      ]
     },
     "metadata": {
      "tags": []
     },
     "output_type": "display_data"
    }
   ],
   "source": [
    "# an example image and its ground truth mask\n",
    "mri_input_filename = '%s/%s' %(data_train_dir,'site1-sc01-image.nii.gz')\n",
    "mri_gt_filename = '%s/%s' %(data_train_dir, 'site1-sc01-mask-r1.nii.gz')\n",
    "\n",
    "# load the data and pairing two imaging types, e.g., the input image and the \n",
    "# ground truth mask\n",
    "pairs = mt_datasets.SegmentationPair2D(mri_input_filename, mri_gt_filename)\n",
    "print('The pair of images dimension is:', pairs.get_pair_shapes())\n",
    "\n",
    "# Get the first input image slice and the first ground truth mask slice\n",
    "# An input image dimension is 100 x 100, and there are three slices.\n",
    "# The label=0 represents background, the label=1 represents GM, and the label=2\n",
    "# represents WM\n",
    "pair = pairs.get_pair_slice(0)\n",
    "img_input = pair[\"input\"]\n",
    "img_gt = pair[\"gt\"]\n",
    "print('An input image dimension is:', img_input.shape)\n",
    "print('The number of unique labels in the mask:', np.unique(img_gt))\n",
    "\n",
    "# show the image\n",
    "plt.imshow(img_input)\n",
    "plt.show()\n",
    "\n",
    "# show the ground truth (gt)\n",
    "plt.imshow(img_gt)\n",
    "plt.show()"
   ]
  },
  {
   "cell_type": "markdown",
   "metadata": {
    "colab_type": "text",
    "id": "W17LJ7-qysnz"
   },
   "source": [
    "## Example of using Pytorch Dataset module with MedicalTorch\n",
    "- MedicalTorch has a specific class called 'SCGMChallenge2DTrain', which inherits from the 'MRI2DSegmentationDataset' class, which in turn inherits from the pytorch 'Dataset' class.\n",
    "- Note that using the class 'SCGMChallenge2DTrain' will automatically limit the class label to be 0 and 1. Therefore, in the following training, we combine both GM and WM segmentation tasks, i.e., we are training a Unet to classify whether it is a GM/WM in a voxel. This fits in well with our visualization tutorial because this will simplify the visual interpretation of the trained model."
   ]
  },
  {
   "cell_type": "code",
   "execution_count": 0,
   "metadata": {
    "colab": {
     "base_uri": "https://localhost:8080/",
     "height": 538
    },
    "colab_type": "code",
    "id": "pHprgOePATlG",
    "outputId": "69713a90-ac9b-476c-d6d3-d6fcc8066c4a"
   },
   "outputs": [
    {
     "name": "stdout",
     "output_type": "stream",
     "text": [
      "torch.Size([1, 200, 200])\n"
     ]
    },
    {
     "data": {
      "image/png": "[encoded data removed]",
      "text/plain": [
       "<Figure size 432x288 with 1 Axes>"
      ]
     },
     "metadata": {
      "tags": []
     },
     "output_type": "display_data"
    },
    {
     "data": {
      "image/png": "[encoded data removed]",
      "text/plain": [
       "<Figure size 432x288 with 1 Axes>"
      ]
     },
     "metadata": {
      "tags": []
     },
     "output_type": "display_data"
    }
   ],
   "source": [
    "# create a dataset \n",
    "composed_transform = transforms.Compose([\n",
    "            mt_transforms.Resample(0.25, 0.25), \n",
    "            mt_transforms.CenterCrop2D((200, 200)), \n",
    "            mt_transforms.ToTensor(),\n",
    "])\n",
    "\n",
    "# load all the data\n",
    "train_dataset = mt_datasets.SCGMChallenge2DTrain(root_dir=data_train_dir, transform=composed_transform)\n",
    "print(train_dataset[0]['input'].shape)\n",
    "\n",
    "# show the image\n",
    "plt.imshow(train_dataset[50]['input'].squeeze())\n",
    "plt.show()\n",
    "\n",
    "# show the ground truth \n",
    "plt.imshow(train_dataset[50]['gt'].squeeze())\n",
    "plt.show()"
   ]
  },
  {
   "cell_type": "code",
   "execution_count": 0,
   "metadata": {
    "colab": {
     "base_uri": "https://localhost:8080/",
     "height": 34
    },
    "colab_type": "code",
    "id": "oQa73fFBsb3q",
    "outputId": "33169897-ffe1-404b-961f-97a811190639"
   },
   "outputs": [
    {
     "data": {
      "text/plain": [
       "torch.Size([10, 1, 200, 200])"
      ]
     },
     "execution_count": 8,
     "metadata": {
      "tags": []
     },
     "output_type": "execute_result"
    }
   ],
   "source": [
    "# create a dataloader which can generate mini batches\n",
    "dataloader = DataLoader(train_dataset, batch_size=10,\n",
    "                        shuffle=True, num_workers=4,\n",
    "                        collate_fn=mt_datasets.mt_collate)\n",
    "minibatch = next(iter(dataloader))\n",
    "\n",
    "# check minibatch size\n",
    "minibatch['input'].size()"
   ]
  },
  {
   "cell_type": "markdown",
   "metadata": {
    "colab_type": "text",
    "id": "FvkoqDnpZiDd"
   },
   "source": [
    "# Training a UNet Segmentation Model for GM and WM"
   ]
  },
  {
   "cell_type": "markdown",
   "metadata": {
    "colab_type": "text",
    "id": "PsANc9cly4dV"
   },
   "source": [
    "## Train and validation dataset preparation"
   ]
  },
  {
   "cell_type": "code",
   "execution_count": 0,
   "metadata": {
    "colab": {},
    "colab_type": "code",
    "id": "nmBBko_ksb_E"
   },
   "outputs": [],
   "source": [
    "# define the train and validation transformers\n",
    "train_transform = transforms.Compose([\n",
    "        mt_transforms.Resample(0.25, 0.25),\n",
    "        mt_transforms.CenterCrop2D((200, 200)),\n",
    "        mt_transforms.ElasticTransform(alpha_range=(28.0, 30.0),\n",
    "                                       sigma_range=(3.5, 4.0),\n",
    "                                       p=0.3),\n",
    "        mt_transforms.RandomAffine(degrees=4.6,\n",
    "                                   scale=(0.98, 1.02),\n",
    "                                   translate=(0.03, 0.03)),\n",
    "        mt_transforms.RandomTensorChannelShift((-0.10, 0.10)),\n",
    "        mt_transforms.ToTensor(),\n",
    "        mt_transforms.NormalizeInstance(),\n",
    "])\n",
    "\n",
    "val_transform = transforms.Compose([\n",
    "        mt_transforms.Resample(0.25, 0.25),\n",
    "        mt_transforms.CenterCrop2D((200, 200)),\n",
    "        mt_transforms.ToTensor(),\n",
    "        mt_transforms.NormalizeInstance(),\n",
    "])"
   ]
  },
  {
   "cell_type": "code",
   "execution_count": 0,
   "metadata": {
    "colab": {},
    "colab_type": "code",
    "id": "sG4RPuA7scBa"
   },
   "outputs": [],
   "source": [
    "# define the pytorch datasets\n",
    "train_dataset = mt_datasets.SCGMChallenge2DTrain(root_dir=data_train_dir,\n",
    "                                                 subj_ids=range(1, 9),\n",
    "                                                 transform=train_transform,\n",
    "                                                 slice_filter_fn=mt_filters.SliceFilter())\n",
    "\n",
    "val_dataset = mt_datasets.SCGMChallenge2DTrain(root_dir=data_train_dir,\n",
    "                                                 subj_ids=range(9, 11),\n",
    "                                                 transform=val_transform)\n",
    "\n",
    "# define the dataloaders\n",
    "train_loader = DataLoader(train_dataset, batch_size=10,\n",
    "                          shuffle=True, pin_memory=True,\n",
    "                          collate_fn=mt_datasets.mt_collate,\n",
    "                          num_workers=1)\n",
    "\n",
    "val_loader = DataLoader(val_dataset, batch_size=10,\n",
    "                        shuffle=True, pin_memory=True,\n",
    "                        collate_fn=mt_datasets.mt_collate,\n",
    "                        num_workers=1)"
   ]
  },
  {
   "cell_type": "markdown",
   "metadata": {
    "colab_type": "text",
    "id": "CcPSKsYa7kEE"
   },
   "source": [
    "## Train a model\n",
    "- We will train a well-known segmentation model, U-net, for GM segmentation. This model is not the state-of-the-art model for segmentation. However, it serves the purpose of our tutorial, in which we need a model that is decent for visualization.\n",
    "- The U-net paper: \"Ronneberger, Olaf, Philipp Fischer, and Thomas Brox. \"U-net: Convolutional networks for biomedical image segmentation.\" International Conference on Medical image computing and computer-assisted intervention. Springer, Cham, 2015\"."
   ]
  },
  {
   "cell_type": "code",
   "execution_count": 0,
   "metadata": {
    "colab": {},
    "colab_type": "code",
    "id": "nQeZ3ypA9IiT"
   },
   "outputs": [],
   "source": [
    "# define the threshold predictions, when the value is greater than a threshold,\n",
    "# it is classified as 1, else 0\n",
    "def threshold_predictions(predictions, thr=0.999):\n",
    "    \"\"\"\n",
    "    Define the prediction mask.\n",
    "    \n",
    "    :param predictions (torch tensor or numpy): the prediction matrix\n",
    "    :param thr (float): the value to classify as 1\n",
    "    \"\"\"\n",
    "    thresholded_preds = predictions[:]\n",
    "    low_values_indices = thresholded_preds < thr\n",
    "    thresholded_preds[low_values_indices] = 0\n",
    "    low_values_indices = thresholded_preds >= thr\n",
    "    thresholded_preds[low_values_indices] = 1\n",
    "    return thresholded_preds\n",
    "\n",
    "def accuracy(prediction, groundtruth):\n",
    "    \"\"\"\n",
    "    Calculate the accuracy.\n",
    "    \n",
    "    :param predictions (torch tensor or numpy): the prediction matrix\n",
    "    :param groundtruth (torch tensor or numpy): the ground truth matrix\n",
    "    \"\"\"\n",
    "    FP = np.float(np.sum((prediction == 1) & (groundtruth == 0)))\n",
    "    FN = np.float(np.sum((prediction == 0) & (groundtruth == 1)))\n",
    "    TP = np.float(np.sum((prediction == 1) & (groundtruth == 1)))\n",
    "    TN = np.float(np.sum((prediction == 0) & (groundtruth == 0)))\n",
    "    N = FP + FN + TP + TN\n",
    "    return np.divide(TP + TN, N) * 100.0\n",
    "\n",
    "# evaluation metric\n",
    "metric_fns = [mt_metrics.dice_score,\n",
    "              mt_metrics.hausdorff_score,\n",
    "              mt_metrics.precision_score,\n",
    "              mt_metrics.recall_score,\n",
    "              mt_metrics.specificity_score,\n",
    "              mt_metrics.intersection_over_union,\n",
    "              mt_metrics.accuracy_score]\n",
    "metric_mgr = mt_metrics.MetricManager(metric_fns)"
   ]
  },
  {
   "cell_type": "code",
   "execution_count": 0,
   "metadata": {
    "colab": {},
    "colab_type": "code",
    "id": "K3e6eFid7rS2"
   },
   "outputs": [],
   "source": [
    "# show image function\n",
    "def show_img(img):\n",
    "  \"\"\"\n",
    "  Show images using pytorch make_grid\n",
    "  \n",
    "  :param img: a pytorch tensor with a size of num_samples x num_channels x width x height\n",
    "  \"\"\"\n",
    "  img = vutils.make_grid(img, normalize=True, scale_each=True)\n",
    "  plt.figure()\n",
    "  plt.imshow(img.permute(1, 2, 0))"
   ]
  },
  {
   "cell_type": "code",
   "execution_count": 0,
   "metadata": {
    "colab": {},
    "colab_type": "code",
    "id": "l3aFn83fscGL"
   },
   "outputs": [],
   "source": [
    "# model\n",
    "model = mt_models.Unet(drop_rate=0.4, bn_momentum=0.1)\n",
    "model.cuda()\n",
    "\n",
    "# train hyperparameters\n",
    "# we will use the Adam optimizer to optimize the hyperparameter training\n",
    "num_epochs = 10\n",
    "initial_lr = 0.001\n",
    "optimizer = optim.Adam(model.parameters(), lr=initial_lr)\n",
    "scheduler = optim.lr_scheduler.CosineAnnealingLR(optimizer, num_epochs)"
   ]
  },
  {
   "cell_type": "code",
   "execution_count": 0,
   "metadata": {
    "colab": {
     "base_uri": "https://localhost:8080/",
     "height": 1000
    },
    "colab_type": "code",
    "id": "_UGKENmNATng",
    "outputId": "fe9960fd-31c5-4f67-c3e1-1ce4d93d28d8"
   },
   "outputs": [
    {
     "name": "stderr",
     "output_type": "stream",
     "text": [
      "\r",
      "  0%|          | 0/10 [00:00<?, ?it/s]/usr/local/lib/python3.6/dist-packages/torch/nn/functional.py:2479: UserWarning: Default upsampling behavior when mode=bilinear is changed to align_corners=False since 0.4.0. Please specify align_corners=True if the old behavior is desired. See the documentation of nn.Upsample for details.\n",
      "  \"See the documentation of nn.Upsample for details.\".format(mode))\n",
      "/usr/local/lib/python3.6/dist-packages/torch/nn/functional.py:1350: UserWarning: nn.functional.sigmoid is deprecated. Use torch.sigmoid instead.\n",
      "  warnings.warn(\"nn.functional.sigmoid is deprecated. Use torch.sigmoid instead.\")\n",
      "/usr/local/lib/python3.6/dist-packages/scipy/spatial/distance.py:1412: RuntimeWarning: invalid value encountered in double_scalars\n",
      "  return float((ntf + nft) / np.array(2.0 * ntt + ntf + nft))\n",
      " 10%|█         | 1/10 [01:08<10:17, 68.56s/it]"
     ]
    },
    {
     "name": "stdout",
     "output_type": "stream",
     "text": [
      "==================== Epoch 1 ====================\n",
      "\n",
      "Train loss: -0.6123\n",
      "Validation. Loss: -0.9080, Accuracy: 99.4879, Dice: 75.3689\n",
      "Time in this epoch: 68.56075668334961\n"
     ]
    },
    {
     "name": "stderr",
     "output_type": "stream",
     "text": [
      "\r",
      " 20%|██        | 2/10 [02:09<08:50, 66.30s/it]"
     ]
    },
    {
     "name": "stdout",
     "output_type": "stream",
     "text": [
      "==================== Epoch 2 ====================\n",
      "\n",
      "Train loss: -0.8715\n",
      "Validation. Loss: -0.9098, Accuracy: 99.4883, Dice: 76.4690\n",
      "Time in this epoch: 61.00858807563782\n"
     ]
    },
    {
     "name": "stderr",
     "output_type": "stream",
     "text": [
      "\r",
      " 30%|███       | 3/10 [03:12<07:36, 65.15s/it]"
     ]
    },
    {
     "name": "stdout",
     "output_type": "stream",
     "text": [
      "==================== Epoch 3 ====================\n",
      "\n",
      "Train loss: -0.9007\n",
      "Validation. Loss: -0.9274, Accuracy: 99.5802, Dice: 77.6230\n",
      "Time in this epoch: 62.49079418182373\n"
     ]
    },
    {
     "name": "stderr",
     "output_type": "stream",
     "text": [
      "\r",
      " 40%|████      | 4/10 [04:14<06:26, 64.35s/it]"
     ]
    },
    {
     "name": "stdout",
     "output_type": "stream",
     "text": [
      "==================== Epoch 4 ====================\n",
      "\n",
      "Train loss: -0.9157\n",
      "Validation. Loss: -0.9238, Accuracy: 99.5800, Dice: 77.7828\n",
      "Time in this epoch: 62.46209406852722\n"
     ]
    },
    {
     "name": "stderr",
     "output_type": "stream",
     "text": [
      "\r",
      " 50%|█████     | 5/10 [05:17<05:18, 63.80s/it]"
     ]
    },
    {
     "name": "stdout",
     "output_type": "stream",
     "text": [
      "==================== Epoch 5 ====================\n",
      "\n",
      "Train loss: -0.9235\n",
      "Validation. Loss: -0.9250, Accuracy: 99.5719, Dice: 77.8067\n",
      "Time in this epoch: 62.519925594329834\n"
     ]
    },
    {
     "name": "stderr",
     "output_type": "stream",
     "text": [
      "\r",
      " 60%|██████    | 6/10 [06:20<04:14, 63.56s/it]"
     ]
    },
    {
     "name": "stdout",
     "output_type": "stream",
     "text": [
      "==================== Epoch 6 ====================\n",
      "\n",
      "Train loss: -0.9298\n",
      "Validation. Loss: -0.9245, Accuracy: 99.5836, Dice: 77.9288\n",
      "Time in this epoch: 62.99565672874451\n"
     ]
    },
    {
     "name": "stderr",
     "output_type": "stream",
     "text": [
      "\r",
      " 70%|███████   | 7/10 [07:22<03:09, 63.28s/it]"
     ]
    },
    {
     "name": "stdout",
     "output_type": "stream",
     "text": [
      "==================== Epoch 7 ====================\n",
      "\n",
      "Train loss: -0.9332\n",
      "Validation. Loss: -0.9249, Accuracy: 99.5830, Dice: 78.1215\n",
      "Time in this epoch: 62.628671407699585\n"
     ]
    },
    {
     "name": "stderr",
     "output_type": "stream",
     "text": [
      "\r",
      " 80%|████████  | 8/10 [08:25<02:06, 63.10s/it]"
     ]
    },
    {
     "name": "stdout",
     "output_type": "stream",
     "text": [
      "==================== Epoch 8 ====================\n",
      "\n",
      "Train loss: -0.9362\n",
      "Validation. Loss: -0.9270, Accuracy: 99.5936, Dice: 78.1693\n",
      "Time in this epoch: 62.664997577667236\n"
     ]
    },
    {
     "name": "stderr",
     "output_type": "stream",
     "text": [
      "\r",
      " 90%|█████████ | 9/10 [09:28<01:02, 62.97s/it]"
     ]
    },
    {
     "name": "stdout",
     "output_type": "stream",
     "text": [
      "==================== Epoch 9 ====================\n",
      "\n",
      "Train loss: -0.9378\n",
      "Validation. Loss: -0.9291, Accuracy: 99.5963, Dice: 78.2319\n",
      "Time in this epoch: 62.68432664871216\n"
     ]
    },
    {
     "name": "stderr",
     "output_type": "stream",
     "text": [
      "\r",
      "100%|██████████| 10/10 [10:30<00:00, 62.90s/it]"
     ]
    },
    {
     "name": "stdout",
     "output_type": "stream",
     "text": [
      "==================== Epoch 10 ====================\n",
      "\n",
      "Train loss: -0.9379\n",
      "Validation. Loss: -0.9306, Accuracy: 99.5974, Dice: 78.2451\n",
      "Time in this epoch: 62.73518252372742\n",
      "\n",
      "An example of input images, ground truth masks, and the prediction masks in the last batch:\n"
     ]
    },
    {
     "name": "stderr",
     "output_type": "stream",
     "text": [
      "\n"
     ]
    },
    {
     "data": {
      "image/png": "[encoded data removed]",
      "text/plain": [
       "<Figure size 432x288 with 1 Axes>"
      ]
     },
     "metadata": {
      "tags": []
     },
     "output_type": "display_data"
    },
    {
     "data": {
      "image/png": "[encoded data removed]",
      "text/plain": [
       "<Figure size 432x288 with 1 Axes>"
      ]
     },
     "metadata": {
      "tags": []
     },
     "output_type": "display_data"
    },
    {
     "data": {
      "image/png": "[encoded data removed]",
      "text/plain": [
       "<Figure size 432x288 with 1 Axes>"
      ]
     },
     "metadata": {
      "tags": []
     },
     "output_type": "display_data"
    }
   ],
   "source": [
    "for epoch in tqdm(range(1, num_epochs+1)):\n",
    "    start_time = time.time()   \n",
    "    metric_mgr.reset()\n",
    "  \n",
    "    # ==================== Training ====================\n",
    "    # train parameters setting\n",
    "    model.train()     \n",
    "    \n",
    "    # loss and metrics calculation\n",
    "    train_loss = 0.0\n",
    "    num_steps = 0\n",
    "    for i, batch in enumerate(train_loader):\n",
    "        input_samples, gt_samples = batch[\"input\"], batch[\"gt\"]\n",
    "\n",
    "        # convert to cuda\n",
    "        var_input = input_samples.cuda()\n",
    "        var_gt = gt_samples.cuda(async=True)\n",
    "\n",
    "        # forward pass\n",
    "        preds = model(var_input)\n",
    "        loss = mt_losses.dice_loss(preds, var_gt)\n",
    "        train_loss += loss.item()\n",
    "\n",
    "        # backward pass\n",
    "        optimizer.zero_grad()\n",
    "        loss.backward()\n",
    "        optimizer.step()\n",
    "        num_steps += 1\n",
    "    train_loss = train_loss / num_steps\n",
    " \n",
    "    # ==================== Evaluation ====================\n",
    "    model.eval()\n",
    "    val_loss = 0.0\n",
    "    num_steps = 0\n",
    "    for i, batch in enumerate(val_loader):\n",
    "        input_samples, gt_samples = batch[\"input\"], batch[\"gt\"]\n",
    "\n",
    "        # calculate loss\n",
    "        with torch.no_grad():\n",
    "            # convert to cuda\n",
    "            a_input = input_samples.cuda()\n",
    "            a_gt = gt_samples.cuda(async=True)\n",
    "            \n",
    "            # forward pass\n",
    "            preds = model(a_input)\n",
    "            loss = mt_losses.dice_loss(preds, a_gt)\n",
    "            val_loss += loss.item()\n",
    "\n",
    "        # evaluation metrics computation\n",
    "        gt_npy = gt_samples.numpy().astype(np.uint8).squeeze(axis=1)\n",
    "        preds_npy = threshold_predictions(preds.data.cpu().numpy()).astype(np.uint8).squeeze(axis=1)\n",
    "        metric_mgr(preds_npy, gt_npy)\n",
    "\n",
    "        # update\n",
    "        num_steps += 1\n",
    "    val_loss = val_loss / num_steps\n",
    "\n",
    "    # evaluation metrics\n",
    "    metrics_dict = metric_mgr.get_results()\n",
    "    \n",
    "    # print\n",
    "    print('==================== Epoch %s ====================' %epoch)\n",
    "    print('\\nTrain loss: {:.4f}'.format(train_loss))\n",
    "    print('Validation. Loss: {:.4f}, Accuracy: {:.4f}, Dice: {:.4f}'.format(val_loss, \n",
    "                                                                 metrics_dict[\"accuracy_score\"],\n",
    "                                                                 metrics_dict['dice_score']          \n",
    "                                                                           ))\n",
    "    print('Time in this epoch: %s' %(time.time() - start_time))\n",
    "    \n",
    "    # update\n",
    "    scheduler.step()\n",
    "\n",
    "# visual inspection for the last batch in the validation\n",
    "print()\n",
    "print('An example of input images, ground truth masks, and the prediction masks in the last batch:')\n",
    "show_img(input_samples)\n",
    "show_img(gt_samples)\n",
    "show_img(preds.data.cpu())"
   ]
  },
  {
   "cell_type": "markdown",
   "metadata": {
    "colab_type": "text",
    "id": "LgLz35_QEArJ"
   },
   "source": [
    "### The size of the input image and the output mask"
   ]
  },
  {
   "cell_type": "code",
   "execution_count": 0,
   "metadata": {
    "colab": {
     "base_uri": "https://localhost:8080/",
     "height": 34
    },
    "colab_type": "code",
    "id": "ytAkZZbKD99K",
    "outputId": "91ebb7c6-bfc4-438b-eff1-97f82ce9b114"
   },
   "outputs": [
    {
     "data": {
      "text/plain": [
       "torch.Size([4, 1, 200, 200])"
      ]
     },
     "execution_count": 24,
     "metadata": {
      "tags": []
     },
     "output_type": "execute_result"
    }
   ],
   "source": [
    "# num_of_images x num_channels x width x height\n",
    "input_samples.shape"
   ]
  },
  {
   "cell_type": "code",
   "execution_count": 0,
   "metadata": {
    "colab": {
     "base_uri": "https://localhost:8080/",
     "height": 34
    },
    "colab_type": "code",
    "id": "UFdfFyZfD_ll",
    "outputId": "118127c3-c071-4c3c-d6f7-12019e54433c"
   },
   "outputs": [
    {
     "data": {
      "text/plain": [
       "torch.Size([4, 1, 200, 200])"
      ]
     },
     "execution_count": 25,
     "metadata": {
      "tags": []
     },
     "output_type": "execute_result"
    }
   ],
   "source": [
    "# num_of_images x width x height\n",
    "preds.shape"
   ]
  },
  {
   "cell_type": "code",
   "execution_count": 0,
   "metadata": {
    "colab": {
     "base_uri": "https://localhost:8080/",
     "height": 34
    },
    "colab_type": "code",
    "id": "LSqRmT-WEq7C",
    "outputId": "7fbd0648-49ef-4fa9-aa59-8d3ca58f2427"
   },
   "outputs": [
    {
     "data": {
      "text/plain": [
       "tensor([0., 1.])"
      ]
     },
     "execution_count": 26,
     "metadata": {
      "tags": []
     },
     "output_type": "execute_result"
    }
   ],
   "source": [
    "# two types of labels: 0 and 1\n",
    "var_gt.cpu().unique()"
   ]
  },
  {
   "cell_type": "markdown",
   "metadata": {
    "colab_type": "text",
    "id": "HM0mWkxv_mFV"
   },
   "source": [
    "## Save the model\n",
    "- For details, please visit: https://pytorch.org/tutorials/beginner/saving_loading_models.html#what-is-a-state-dict"
   ]
  },
  {
   "cell_type": "code",
   "execution_count": 0,
   "metadata": {
    "colab": {},
    "colab_type": "code",
    "id": "BnCIOoamAf7H"
   },
   "outputs": [],
   "source": [
    "import datetime"
   ]
  },
  {
   "cell_type": "code",
   "execution_count": 0,
   "metadata": {
    "colab": {
     "base_uri": "https://localhost:8080/",
     "height": 34
    },
    "colab_type": "code",
    "id": "KzurSlL7AnJz",
    "outputId": "45bd632d-f6bb-44e5-e661-815d2f2c8a1d"
   },
   "outputs": [
    {
     "name": "stdout",
     "output_type": "stream",
     "text": [
      "09_41PM-August-24-2019\n"
     ]
    }
   ],
   "source": [
    "timestamp = datetime.datetime.now().strftime(\"%I_%M%p-%B-%d-%Y\")\n",
    "print(timestamp)"
   ]
  },
  {
   "cell_type": "code",
   "execution_count": 0,
   "metadata": {
    "colab": {
     "base_uri": "https://localhost:8080/",
     "height": 34
    },
    "colab_type": "code",
    "id": "NN5t7HlOATsU",
    "outputId": "b88d204f-9a57-4bc2-ba66-ef6a835860af"
   },
   "outputs": [
    {
     "name": "stdout",
     "output_type": "stream",
     "text": [
      "drive/My Drive/MICCAI-MEC-2019/trained_models/unet_09_41PM-August-24-2019.pt\n"
     ]
    }
   ],
   "source": [
    "save_dir = '%s/trained_models/unet_%s.pt' %(root_dir, timestamp)\n",
    "torch.save(model.state_dict(), save_dir)\n",
    "print(save_dir)"
   ]
  },
  {
   "cell_type": "markdown",
   "metadata": {
    "colab_type": "text",
    "id": "wxmVgvVnBXLQ"
   },
   "source": [
    "### Check if the model is saved appropriately"
   ]
  },
  {
   "cell_type": "code",
   "execution_count": 0,
   "metadata": {
    "colab": {
     "base_uri": "https://localhost:8080/",
     "height": 101
    },
    "colab_type": "code",
    "id": "JnLKNe76Cb5y",
    "outputId": "2fbdef29-3de8-4310-e817-f0fc4e67aca0"
   },
   "outputs": [
    {
     "name": "stdout",
     "output_type": "stream",
     "text": [
      "conv1.conv1.weight\n",
      "torch.Size([64, 1, 3, 3])\n",
      "tensor([[[-0.1910, -0.3071, -0.2428],\n",
      "         [ 0.2693,  0.2706,  0.0847],\n",
      "         [ 0.0031,  0.3063,  0.2006]]], device='cuda:0')\n"
     ]
    }
   ],
   "source": [
    "# check the trained model's first convolutional layer weight\n",
    "for name, param in model.named_parameters():\n",
    "    if param.requires_grad:\n",
    "        print(name)\n",
    "        print(param.data.shape)\n",
    "        print(param.data[0])\n",
    "        break"
   ]
  },
  {
   "cell_type": "code",
   "execution_count": 0,
   "metadata": {
    "colab": {
     "base_uri": "https://localhost:8080/",
     "height": 101
    },
    "colab_type": "code",
    "id": "CNvHxR0c_t3U",
    "outputId": "6487df30-53fa-4337-d66b-10c0f343e64b"
   },
   "outputs": [
    {
     "name": "stdout",
     "output_type": "stream",
     "text": [
      "conv1.conv1.weight\n",
      "torch.Size([64, 1, 3, 3])\n",
      "tensor([[[-0.2522, -0.1127, -0.2979],\n",
      "         [-0.0372, -0.1384,  0.0896],\n",
      "         [-0.0457,  0.2120, -0.2840]]])\n"
     ]
    }
   ],
   "source": [
    "# create a dummy unet model\n",
    "model_load = mt_models.Unet(drop_rate=0.4, bn_momentum=0.1)\n",
    "for name, param in model_load.named_parameters():\n",
    "    if param.requires_grad:\n",
    "        print(name)\n",
    "        print(param.data.shape)\n",
    "        print(param.data[0])\n",
    "        break"
   ]
  },
  {
   "cell_type": "code",
   "execution_count": 0,
   "metadata": {
    "colab": {
     "base_uri": "https://localhost:8080/",
     "height": 101
    },
    "colab_type": "code",
    "id": "qJ6schG6_t54",
    "outputId": "a6242cd5-c0a4-4b6a-f98f-1f410ed7d119"
   },
   "outputs": [
    {
     "name": "stdout",
     "output_type": "stream",
     "text": [
      "conv1.conv1.weight\n",
      "torch.Size([64, 1, 3, 3])\n",
      "tensor([[[-0.1910, -0.3071, -0.2428],\n",
      "         [ 0.2693,  0.2706,  0.0847],\n",
      "         [ 0.0031,  0.3063,  0.2006]]])\n"
     ]
    }
   ],
   "source": [
    "# load the saved model weights and you can see that the weights\n",
    "# are the same as the trained model weights. \n",
    "model_load.load_state_dict(torch.load(save_dir))\n",
    "for name, param in model_load.named_parameters():\n",
    "    if param.requires_grad:\n",
    "        print(name)\n",
    "        print(param.data.shape)\n",
    "        print(param.data[0])\n",
    "        break"
   ]
  },
  {
   "cell_type": "code",
   "execution_count": 0,
   "metadata": {
    "colab": {},
    "colab_type": "code",
    "id": "fC_rwnrkbHgt"
   },
   "outputs": [],
   "source": []
  }
 ],
 "metadata": {
  "accelerator": "GPU",
  "colab": {
   "collapsed_sections": [],
   "name": "colab-mec2019_part1_model_training_V1.0.ipynb",
   "provenance": [],
   "version": "0.3.2"
  },
  "kernelspec": {
   "display_name": "Python 3",
   "language": "python",
   "name": "python3"
  },
  "language_info": {
   "codemirror_mode": {
    "name": "ipython",
    "version": 3
   },
   "file_extension": ".py",
   "mimetype": "text/x-python",
   "name": "python",
   "nbconvert_exporter": "python",
   "pygments_lexer": "ipython3",
   "version": "3.7.4"
  }
 },
 "nbformat": 4,
 "nbformat_minor": 1
}
